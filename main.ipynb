{
 "cells": [
  {
   "cell_type": "markdown",
   "metadata": {},
   "source": [
    "```markdown\n",
    "## Retrieval Augmented Generation (RAG)\n",
    "\n",
    "Retrieval Augmented Generation (RAG) is a model that combines retrieval-based and generation-based approaches to provide more accurate and contextually relevant responses. In this project, RAG is implemented using the Gemma library and a dataset of news articles in Japanese and English from various newspapers in Japan between 2001 and 2021.\n",
    "\n",
    "### How to Use RAG in This Project\n",
    "\n",
    "1. **Load the Python Environment**:\n",
    "    Activate the Python environment by running the following command:\n",
    "    ```bash\n",
    "    source {DH_INSTALLATION_PATH}/py312/bin/activate\n",
    "    ```\n",
    "\n",
    "2. **Run the Main File**:\n",
    "    Execute the main file to start the application:\n",
    "    ```bash\n",
    "    python main.py\n",
    "    ```\n",
    "\n",
    "3. **Search for Articles**:\n",
    "    Enter keywords in Japanese or English to search for the most relevant articles. The system will use the RAG model to retrieve and generate the most contextually appropriate responses.\n",
    "\n",
    "### Installation Steps\n",
    "\n",
    "1. **Clone the Repository**:\n",
    "    ```bash\n",
    "    git clone https://github.com/irsotarriva/DH.git\n",
    "    ```\n",
    "\n",
    "2. **Install Required Packages**:\n",
    "    ```bash\n",
    "    sudo pip install -r requirements.txt\n",
    "    ```\n",
    "    If pip is installed as pip3, use:\n",
    "    ```bash\n",
    "    sudo pip3 install -r requirements.txt\n",
    "    ```\n",
    "\n",
    "3. **Obtain Kaggle API Key**:\n",
    "    Follow the instructions on [Kaggle](https://www.kaggle.com/docs/api) to get your API key. This key is required to download the dataset and pre-trained model.\n",
    "\n",
    "4. **Install Submodules**:\n",
    "    ```bash\n",
    "    git submodule update --init --recursive\n",
    "    ```\n",
    "\n",
    "5. **Install Gemma**:\n",
    "    Navigate to the Gemma repository and run:\n",
    "    ```bash\n",
    "    pip install -e .\n",
    "    ```"
   ]
  },
  {
   "cell_type": "code",
   "execution_count": null,
   "metadata": {
    "vscode": {
     "languageId": "plaintext"
    }
   },
   "outputs": [],
   "source": [
    "Run the main program by executing the following code:"
   ]
  },
  {
   "cell_type": "code",
   "execution_count": null,
   "metadata": {
    "vscode": {
     "languageId": "plaintext"
    }
   },
   "outputs": [],
   "source": [
    "import sys\n",
    "import logging\n",
    "import log.log as log # specific configuration for the logging.\n",
    "import UI.news_app as ui # implementation of the GUI.\n",
    "try:\n",
    "    from PyQt5.QtWidgets import QApplication\n",
    "except ImportError:\n",
    "    log.critical(\"PyQt5 not found. You might try installing it via 'pip install PyQt5'.\")\n",
    "    sys.exit(1)\n",
    "\n",
    "def main() -> None:\n",
    "    \"\"\" Main function to run the program. \"\"\"\n",
    "    log.setup_logging()\n",
    "    logging.basicConfig(level=\"DEBUG\")\n",
    "    import rag #implementation of the RAG model.\n",
    "    MyRAG = rag.RAG()\n",
    "    app = QApplication(sys.argv)\n",
    "    news_app = ui.NewsApp(MyRAG)\n",
    "    news_app.show()\n",
    "    sys.exit(app.exec_())\n",
    "\n",
    "main()\n"
   ]
  }
 ],
 "metadata": {
  "language_info": {
   "name": "python"
  }
 },
 "nbformat": 4,
 "nbformat_minor": 2
}
